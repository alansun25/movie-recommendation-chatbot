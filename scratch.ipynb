{
 "cells": [
  {
   "cell_type": "raw",
   "id": "ba706a4e",
   "metadata": {},
   "source": [
    "# Scratch\n",
    "\n",
    "Try using a Jupyter Notebook like we've provided here as a \"scratch pad\" for developing code. \n",
    "\n",
    "You can quickly test functions as modular pieces of your larger code. "
   ]
  },
  {
   "cell_type": "code",
   "execution_count": 478,
   "id": "e61bfb99",
   "metadata": {},
   "outputs": [],
   "source": [
    "import numpy as np # add more packages if you need them \n",
    "import re"
   ]
  },
  {
   "cell_type": "code",
   "execution_count": 479,
   "id": "7f75905a",
   "metadata": {},
   "outputs": [
    {
     "name": "stdout",
     "output_type": "stream",
     "text": [
      "The autoreload extension is already loaded. To reload it, use:\n",
      "  %reload_ext autoreload\n"
     ]
    }
   ],
   "source": [
    "from chatbot import * #imports all functions from chatbot.py\n",
    "\n",
    "# The lines below auto-reload the code you write in chatbot.py \n",
    "%load_ext autoreload\n",
    "%autoreload 2"
   ]
  },
  {
   "cell_type": "code",
   "execution_count": 480,
   "id": "be860aa2",
   "metadata": {},
   "outputs": [
    {
     "name": "stderr",
     "output_type": "stream",
     "text": [
      "/Users/alansun/miniconda3/envs/cs375/lib/python3.8/site-packages/sklearn/linear_model/_logistic.py:458: ConvergenceWarning: lbfgs failed to converge (status=1):\n",
      "STOP: TOTAL NO. of ITERATIONS REACHED LIMIT.\n",
      "\n",
      "Increase the number of iterations (max_iter) or scale the data as shown in:\n",
      "    https://scikit-learn.org/stable/modules/preprocessing.html\n",
      "Please also refer to the documentation for alternative solver options:\n",
      "    https://scikit-learn.org/stable/modules/linear_model.html#logistic-regression\n",
      "  n_iter_i = _check_optimize_result(\n"
     ]
    }
   ],
   "source": [
    "chatbot = Chatbot()"
   ]
  },
  {
   "cell_type": "code",
   "execution_count": 481,
   "id": "2144c237",
   "metadata": {},
   "outputs": [
    {
     "data": {
      "text/plain": [
       "\"hello! my name is cupid <3. i'll help you find a new movie to watch and love. tell me about a movie you've seen recently!\""
      ]
     },
     "execution_count": 481,
     "metadata": {},
     "output_type": "execute_result"
    }
   ],
   "source": [
    "chatbot.greeting()"
   ]
  },
  {
   "cell_type": "code",
   "execution_count": 482,
   "id": "2539a199",
   "metadata": {},
   "outputs": [
    {
     "data": {
      "text/plain": [
       "['Two', 'Movies']"
      ]
     },
     "execution_count": 482,
     "metadata": {},
     "output_type": "execute_result"
    }
   ],
   "source": [
    "preprocessed_input = 'There are \"   Two\" different \"Movies\" here'\n",
    "chatbot.extract_titles(preprocessed_input)"
   ]
  },
  {
   "cell_type": "code",
   "execution_count": 483,
   "id": "9b8b7363",
   "metadata": {},
   "outputs": [],
   "source": [
    "# TODO: add more cells to create more test examples and \n",
    "# test more methods in your chatbot "
   ]
  },
  {
   "cell_type": "code",
   "execution_count": 608,
   "id": "c7e94326",
   "metadata": {},
   "outputs": [
    {
     "name": "stdout",
     "output_type": "stream",
     "text": [
      "[4085, 5485, 6691, 8089, 8560]\n"
     ]
    }
   ],
   "source": [
    "ids = chatbot.find_movies_idx_by_title('spider man')\n",
    "print(ids)"
   ]
  },
  {
   "cell_type": "code",
   "execution_count": 609,
   "id": "7d18d6e7",
   "metadata": {},
   "outputs": [
    {
     "data": {
      "text/plain": [
       "(['Spider-Man (2002)', 'Action|Adventure|Sci-Fi|Thriller'],\n",
       " ['Spider-Man 2 (2004)', 'Action|Adventure|Sci-Fi|IMAX'],\n",
       " ['Spider-Man 3 (2007)', 'Action|Adventure|Sci-Fi|Thriller|IMAX'],\n",
       " ['Amazing Spider-Man, The (2012)', 'Action|Adventure|Sci-Fi|IMAX'],\n",
       " ['The Amazing Spider-Man 2 (2014)', 'Action|Sci-Fi|IMAX'])"
      ]
     },
     "execution_count": 609,
     "metadata": {},
     "output_type": "execute_result"
    }
   ],
   "source": [
    "chatbot.titles[4085], chatbot.titles[5485], chatbot.titles[6691], chatbot.titles[8089], chatbot.titles[8560]"
   ]
  },
  {
   "cell_type": "code",
   "execution_count": 487,
   "id": "4f92f3c5",
   "metadata": {},
   "outputs": [
    {
     "data": {
      "text/plain": [
       "[5485]"
      ]
     },
     "execution_count": 487,
     "metadata": {},
     "output_type": "execute_result"
    }
   ],
   "source": [
    "chatbot.disambiguate_candidates(\"2\", [4085, 5485])"
   ]
  },
  {
   "cell_type": "code",
   "execution_count": 488,
   "id": "b74a7715",
   "metadata": {},
   "outputs": [
    {
     "data": {
      "text/plain": [
       "[1359]"
      ]
     },
     "execution_count": 488,
     "metadata": {},
     "output_type": "execute_result"
    }
   ],
   "source": [
    "chatbot.disambiguate_candidates(\"1997\", [1359, 2716])"
   ]
  },
  {
   "cell_type": "code",
   "execution_count": 489,
   "id": "b459cb8d",
   "metadata": {},
   "outputs": [
    {
     "data": {
      "text/plain": [
       "[274, 276]"
      ]
     },
     "execution_count": 489,
     "metadata": {},
     "output_type": "execute_result"
    }
   ],
   "source": [
    "chatbot.disambiguate_candidates(\"1994\", [274, 275, 276])"
   ]
  },
  {
   "cell_type": "code",
   "execution_count": 607,
   "id": "f8746c5b",
   "metadata": {},
   "outputs": [
    {
     "name": "stdout",
     "output_type": "stream",
     "text": [
      "2836 The Hunger (1983)\n",
      "6678 Aqua Teen Hunger Force Colon Movie Film for Theaters (2007)\n",
      "7101 Hunger (2008)\n",
      "7951 The Hunger Games (2012)\n",
      "8454 The Hunger Games: Catching Fire (2013)\n",
      "8720 The Hunger Games: Mockingjay - Part 1 (2014)\n",
      "8914 The Hunger Games: Mockingjay - Part 2 (2015)\n"
     ]
    }
   ],
   "source": [
    "for idx in chatbot.find_movies_idx_by_title(\"Hunger\"):\n",
    "    print(idx, chatbot.titles[idx][0])"
   ]
  },
  {
   "cell_type": "code",
   "execution_count": 491,
   "id": "1fbdbf88",
   "metadata": {},
   "outputs": [
    {
     "data": {
      "text/plain": [
       "[7951]"
      ]
     },
     "execution_count": 491,
     "metadata": {},
     "output_type": "execute_result"
    }
   ],
   "source": [
    "chatbot.disambiguate_candidates(\"The Hunger Games\", [2836, 7101, 7951])"
   ]
  },
  {
   "cell_type": "code",
   "execution_count": 492,
   "id": "fa70cdb5",
   "metadata": {},
   "outputs": [
    {
     "data": {
      "text/plain": [
       "['Titanic', '1997']"
      ]
     },
     "execution_count": 492,
     "metadata": {},
     "output_type": "execute_result"
    }
   ],
   "source": [
    "no_punc = re.compile(\"\\w+\")\n",
    "tokens = re.findall(no_punc, \"Titanic (1997)\")\n",
    "tokens"
   ]
  },
  {
   "cell_type": "code",
   "execution_count": 493,
   "id": "73de50a1",
   "metadata": {},
   "outputs": [
    {
     "data": {
      "text/plain": [
       "{'dissention': 'neg',\n",
       " 'pardon': 'pos',\n",
       " 'dissolution': 'neg',\n",
       " 'desirable': 'pos',\n",
       " 'sleek': 'pos',\n",
       " 'obstruction': 'neg',\n",
       " 'protest': 'neg',\n",
       " 'segregation': 'neg',\n",
       " 'abide': 'pos',\n",
       " 'controversial': 'neg',\n",
       " 'repress': 'neg',\n",
       " 'hate': 'neg',\n",
       " 'aggression': 'neg',\n",
       " 'conjure': 'pos',\n",
       " 'unfeeling': 'neg',\n",
       " 'vile': 'neg',\n",
       " 'scold': 'neg',\n",
       " 'originality': 'pos',\n",
       " 'outwit': 'pos',\n",
       " 'agitator': 'neg',\n",
       " 'daze': 'neg',\n",
       " 'tenacity': 'pos',\n",
       " 'regal': 'pos',\n",
       " 'trauma': 'neg',\n",
       " 'immature': 'neg',\n",
       " 'pride': 'pos',\n",
       " 'forbidden': 'neg',\n",
       " 'wondrous': 'pos',\n",
       " 'lure': 'neg',\n",
       " 'collaborate': 'pos',\n",
       " 'rescue': 'pos',\n",
       " 'co-operation': 'pos',\n",
       " 'compassion': 'pos',\n",
       " 'dispense': 'neg',\n",
       " 'void': 'neg',\n",
       " 'lurk': 'neg',\n",
       " 'inhibit': 'neg',\n",
       " 'distort': 'neg',\n",
       " 'shoot': 'neg',\n",
       " 'smack': 'neg',\n",
       " 'disobedient': 'neg',\n",
       " 'gratification': 'pos',\n",
       " 'courageous': 'pos',\n",
       " 'disturb': 'neg',\n",
       " 'prize': 'pos',\n",
       " 'pinch': 'neg',\n",
       " 'loneliness': 'neg',\n",
       " 'solution': 'pos',\n",
       " 'viable': 'pos',\n",
       " 'brutish': 'neg',\n",
       " 'flashy': 'pos',\n",
       " 'enhance': 'pos',\n",
       " 'steadfastness': 'pos',\n",
       " 'deplorable': 'neg',\n",
       " 'straight': 'pos',\n",
       " 'triumph': 'pos',\n",
       " 'enjoy': 'pos',\n",
       " 'veritable': 'pos',\n",
       " 'force': 'neg',\n",
       " 'monotonous': 'neg',\n",
       " 'tired': 'neg',\n",
       " 'consistent': 'pos',\n",
       " 'welfare': 'pos',\n",
       " 'horn': 'neg',\n",
       " 'depraved': 'neg',\n",
       " 'crave': 'neg',\n",
       " 'fabulous': 'pos',\n",
       " 'safe': 'pos',\n",
       " 'valiant': 'pos',\n",
       " 'infiltration': 'neg',\n",
       " 'rigorous': 'neg',\n",
       " 'kidnap': 'neg',\n",
       " 'decadence': 'neg',\n",
       " 'even': 'pos',\n",
       " 'incompatible': 'neg',\n",
       " 'desirous': 'pos',\n",
       " 'integrity': 'pos',\n",
       " 'hazy': 'neg',\n",
       " 'insinuate': 'neg',\n",
       " 'mischievous': 'neg',\n",
       " 'sunder': 'neg',\n",
       " 'reverently': 'pos',\n",
       " 'endorse': 'pos',\n",
       " 'neat': 'pos',\n",
       " 'non-violence': 'pos',\n",
       " 'niche': 'pos',\n",
       " 'hero': 'pos',\n",
       " 'avert': 'neg',\n",
       " 'festive': 'pos',\n",
       " 'human': 'pos',\n",
       " 'fun': 'neg',\n",
       " 'protection': 'pos',\n",
       " 'humility': 'pos',\n",
       " 'wastefulness': 'neg',\n",
       " 'shriek': 'neg',\n",
       " 'celebration': 'pos',\n",
       " 'doldrums': 'neg',\n",
       " 'unwillingness': 'neg',\n",
       " 'elaborate': 'pos',\n",
       " 'homage': 'pos',\n",
       " 'culminate': 'pos',\n",
       " 'foolishness': 'neg',\n",
       " 'controversy': 'neg',\n",
       " 'credit': 'pos',\n",
       " 'cogent': 'pos',\n",
       " 'mentor': 'pos',\n",
       " 'superstitious': 'neg',\n",
       " 'permit': 'pos',\n",
       " 'lonesome': 'neg',\n",
       " 'lucrative': 'pos',\n",
       " 'anarchist': 'neg',\n",
       " 'suitable': 'pos',\n",
       " 'menial': 'neg',\n",
       " 'cancellation': 'neg',\n",
       " 'astute': 'pos',\n",
       " 'rebel': 'neg',\n",
       " 'golden': 'pos',\n",
       " 'envious': 'neg',\n",
       " 'divide': 'neg',\n",
       " 'stray': 'neg',\n",
       " 'mobility': 'pos',\n",
       " 'loveless': 'neg',\n",
       " 'patience': 'pos',\n",
       " 'shoddy': 'neg',\n",
       " 'moral': 'pos',\n",
       " 'stern': 'neg',\n",
       " 'prodigy': 'pos',\n",
       " 'stand': 'pos',\n",
       " 'devastation': 'neg',\n",
       " 'undesirable': 'neg',\n",
       " 'utilization': 'pos',\n",
       " 'insecurity': 'neg',\n",
       " 'hungry': 'neg',\n",
       " 'negative': 'neg',\n",
       " 'cannibal': 'neg',\n",
       " 'insult': 'neg',\n",
       " 'plod': 'neg',\n",
       " 'mediate': 'pos',\n",
       " 'call': 'pos',\n",
       " 'asset': 'pos',\n",
       " 'moralistic': 'pos',\n",
       " 'strike': 'neg',\n",
       " 'survive': 'pos',\n",
       " 'barbarous': 'neg',\n",
       " 'holy': 'pos',\n",
       " 'wary': 'neg',\n",
       " 'successful': 'pos',\n",
       " 'expose': 'neg',\n",
       " 'ascribe': 'pos',\n",
       " 'award': 'pos',\n",
       " 'aware': 'pos',\n",
       " 'grief': 'neg',\n",
       " 'disruption': 'neg',\n",
       " 'warm': 'pos',\n",
       " 'adult': 'pos',\n",
       " 'excellent': 'pos',\n",
       " 'hole': 'neg',\n",
       " 'adamant': 'pos',\n",
       " 'tariff': 'neg',\n",
       " 'sorry': 'neg',\n",
       " 'overrun': 'neg',\n",
       " 'abundance': 'pos',\n",
       " 'confound': 'neg',\n",
       " 'join': 'pos',\n",
       " 'err': 'neg',\n",
       " 'sweeten': 'pos',\n",
       " 'accomplishment': 'pos',\n",
       " 'show': 'neg',\n",
       " 'advocacy': 'pos',\n",
       " 'whack': 'neg',\n",
       " 'cuddle': 'pos',\n",
       " 'substantiate': 'pos',\n",
       " 'guise': 'neg',\n",
       " 'endow': 'pos',\n",
       " 'quarrel': 'neg',\n",
       " 'decorative': 'pos',\n",
       " 'defile': 'neg',\n",
       " 'radiance': 'pos',\n",
       " 'pollute': 'neg',\n",
       " 'give': 'pos',\n",
       " 'deadweight': 'neg',\n",
       " 'unjust': 'neg',\n",
       " 'assent': 'pos',\n",
       " 'frown': 'neg',\n",
       " 'sick': 'neg',\n",
       " 'impair': 'neg',\n",
       " 'accurateness': 'pos',\n",
       " 'degenerate': 'neg',\n",
       " 'indifferent': 'neg',\n",
       " 'cursory': 'neg',\n",
       " 'guarantee': 'pos',\n",
       " 'straightforward': 'pos',\n",
       " 'farce': 'neg',\n",
       " 'validity': 'pos',\n",
       " 'provide': 'pos',\n",
       " 'agony': 'neg',\n",
       " 'travel': 'pos',\n",
       " 'nuts': 'neg',\n",
       " 'damage': 'neg',\n",
       " 'amazing': 'pos',\n",
       " 'shred': 'neg',\n",
       " 'significance': 'pos',\n",
       " 'disappoint': 'neg',\n",
       " 'actuality': 'pos',\n",
       " 'resignation': 'neg',\n",
       " 'swiftness': 'pos',\n",
       " 'dignified': 'pos',\n",
       " 'recompense': 'pos',\n",
       " 'badly': 'neg',\n",
       " 'fever': 'neg',\n",
       " 'beauty': 'pos',\n",
       " 'mess': 'neg',\n",
       " 'insecure': 'neg',\n",
       " 'lag': 'neg',\n",
       " 'delicacy': 'pos',\n",
       " 'loyalty': 'pos',\n",
       " 'misunderstanding': 'neg',\n",
       " 'modest': 'pos',\n",
       " 'mesh': 'pos',\n",
       " 'lay': 'neg',\n",
       " 'law': 'pos',\n",
       " 'meaningful': 'pos',\n",
       " 'ambivalent': 'neg',\n",
       " 'austere': 'neg',\n",
       " 'impatient': 'neg',\n",
       " 'effective': 'pos',\n",
       " 'alienate': 'neg',\n",
       " 'sorrowful': 'neg',\n",
       " 'appreciate': 'pos',\n",
       " 'arbitrate': 'pos',\n",
       " 'greet': 'pos',\n",
       " 'neglect': 'neg',\n",
       " 'complexity': 'neg',\n",
       " 'rogue': 'neg',\n",
       " 'upside': 'pos',\n",
       " 'goodbye': 'pos',\n",
       " 'order': 'pos',\n",
       " 'unsteady': 'neg',\n",
       " 'blind': 'neg',\n",
       " 'modesty': 'pos',\n",
       " 'devote': 'pos',\n",
       " 'consent': 'pos',\n",
       " 'sickly': 'neg',\n",
       " 'fortify': 'pos',\n",
       " 'ghastly': 'neg',\n",
       " 'innovative': 'pos',\n",
       " 'responsive': 'pos',\n",
       " 'fidelity': 'pos',\n",
       " 'wrought': 'neg',\n",
       " 'wickedness': 'neg',\n",
       " 'wilt': 'neg',\n",
       " 'manageable': 'pos',\n",
       " 'fit': 'pos',\n",
       " 'hypocrisy': 'neg',\n",
       " 'unforeseen': 'neg',\n",
       " 'fix': 'neg',\n",
       " 'haphazard': 'neg',\n",
       " 'comprehend': 'pos',\n",
       " 'better': 'pos',\n",
       " 'tramp': 'neg',\n",
       " 'magnetic': 'pos',\n",
       " 'valor': 'pos',\n",
       " 'precipitate': 'neg',\n",
       " 'admirable': 'pos',\n",
       " 'overcome': 'pos',\n",
       " 'pleasurable': 'pos',\n",
       " 'glorify': 'pos',\n",
       " 'unfortunate': 'neg',\n",
       " 'vouchsafe': 'pos',\n",
       " 'press': 'neg',\n",
       " 'enrich': 'pos',\n",
       " 'unemployed': 'neg',\n",
       " 'amenable': 'pos',\n",
       " 'collide': 'neg',\n",
       " 'bane': 'neg',\n",
       " 'renunciation': 'neg',\n",
       " 'diseased': 'neg',\n",
       " 'detachment': 'neg',\n",
       " 'repulsive': 'neg',\n",
       " 'shameful': 'neg',\n",
       " 'indulge': 'neg',\n",
       " 'interrupt': 'neg',\n",
       " 'lifelong': 'pos',\n",
       " 'gloom': 'neg',\n",
       " 'brightness': 'pos',\n",
       " 'sleepless': 'neg',\n",
       " 'absolve': 'pos',\n",
       " 'explode': 'neg',\n",
       " 'deficient': 'neg',\n",
       " 'frantically': 'neg',\n",
       " 'spotless': 'pos',\n",
       " 'affiliate': 'pos',\n",
       " 'misbehave': 'neg',\n",
       " 'reasonable': 'pos',\n",
       " 'fitness': 'pos',\n",
       " 'luck': 'pos',\n",
       " 'consolidate': 'pos',\n",
       " 'interruption': 'neg',\n",
       " 'victorious': 'pos',\n",
       " 'durability': 'pos',\n",
       " 'innocent': 'pos',\n",
       " 'marital': 'pos',\n",
       " 'slothful': 'neg',\n",
       " 'ameliorate': 'pos',\n",
       " 'dawn': 'pos',\n",
       " 'truant': 'neg',\n",
       " 'whip': 'neg',\n",
       " 'contend': 'neg',\n",
       " 'depress': 'neg',\n",
       " 'misfortune': 'neg',\n",
       " 'unbound': 'pos',\n",
       " 'fraught': 'neg',\n",
       " 'useless': 'neg',\n",
       " 'undoubted': 'pos',\n",
       " 'content': 'pos',\n",
       " 'adhesion': 'pos',\n",
       " 'encourage': 'pos',\n",
       " 'sane': 'pos',\n",
       " 'remorse': 'neg',\n",
       " 'precision': 'pos',\n",
       " 'heavenly': 'pos',\n",
       " 'sluggish': 'neg',\n",
       " 'independence': 'pos',\n",
       " 'protector': 'pos',\n",
       " 'barrier': 'neg',\n",
       " 'associate': 'pos',\n",
       " 'veto': 'neg',\n",
       " 'lawless': 'neg',\n",
       " 'fugitive': 'neg',\n",
       " 'free': 'pos',\n",
       " 'negotiate': 'pos',\n",
       " 'bestow': 'pos',\n",
       " 'thoughtless': 'neg',\n",
       " 'struggle': 'neg',\n",
       " 'abate': 'neg',\n",
       " 'amazement': 'pos',\n",
       " 'hand': 'neg',\n",
       " 'warmhearted': 'pos',\n",
       " 'fret': 'neg',\n",
       " 'shaggy': 'neg',\n",
       " 'renaissance': 'pos',\n",
       " 'refugee': 'neg',\n",
       " 'inexpensive': 'pos',\n",
       " 'tolerant': 'pos',\n",
       " 'flawless': 'pos',\n",
       " 'oppose': 'neg',\n",
       " 'hopeless': 'neg',\n",
       " 'attune': 'pos',\n",
       " 'aspire': 'pos',\n",
       " 'symbolize': 'pos',\n",
       " 'worsen': 'neg',\n",
       " 'non-violent': 'pos',\n",
       " 'naughty': 'neg',\n",
       " 'dunce': 'neg',\n",
       " 'reassure': 'pos',\n",
       " 'bombard': 'neg',\n",
       " 'fantasy': 'pos',\n",
       " 'deplete': 'neg',\n",
       " 'clamorous': 'neg',\n",
       " 'sober': 'pos',\n",
       " 'radiate': 'pos',\n",
       " 'comic': 'pos',\n",
       " 'clarity': 'pos',\n",
       " 'excommunication': 'neg',\n",
       " 'withheld': 'neg',\n",
       " 'acquaint': 'pos',\n",
       " 'sarcasm': 'neg',\n",
       " 'indeterminate': 'neg',\n",
       " 'plentiful': 'pos',\n",
       " 'compromise': 'pos',\n",
       " 'fumble': 'neg',\n",
       " 'inconvenient': 'neg',\n",
       " 'bitter': 'neg',\n",
       " 'unbroken': 'pos',\n",
       " 'reparation': 'pos',\n",
       " 'illiterate': 'neg',\n",
       " 'paltry': 'neg',\n",
       " 'collapse': 'neg',\n",
       " 'fanatical': 'neg',\n",
       " 'esoteric': 'neg',\n",
       " 'inexact': 'neg',\n",
       " 'embellish': 'pos',\n",
       " 'wisdom': 'pos',\n",
       " 'crawl': 'neg',\n",
       " 'peculiar': 'neg',\n",
       " 'rebuff': 'neg',\n",
       " 'subjugate': 'neg',\n",
       " 'mercy': 'pos',\n",
       " 'congratulatory': 'pos',\n",
       " 'anxiety': 'neg',\n",
       " 'exultation': 'pos',\n",
       " 'elegant': 'pos',\n",
       " 'nominate': 'pos',\n",
       " 'coward': 'neg',\n",
       " 'bitterness': 'neg',\n",
       " 'matter': 'neg',\n",
       " 'guilt': 'neg',\n",
       " 'painful': 'neg',\n",
       " 'iron': 'neg',\n",
       " 'forlorn': 'neg',\n",
       " 'devious': 'neg',\n",
       " 'acclaim': 'pos',\n",
       " 'willingness': 'pos',\n",
       " 'quench': 'pos',\n",
       " 'pessimism': 'neg',\n",
       " 'mind': 'neg',\n",
       " 'mine': 'neg',\n",
       " 'taint': 'neg',\n",
       " 'antagonistic': 'neg',\n",
       " 'rat': 'neg',\n",
       " 'hug': 'pos',\n",
       " 'lull': 'neg',\n",
       " 'mint': 'pos',\n",
       " 'pompous': 'neg',\n",
       " 'horde': 'neg',\n",
       " 'genuine': 'pos',\n",
       " 'relapse': 'neg',\n",
       " 'alibi': 'neg',\n",
       " 'responsible': 'pos',\n",
       " 'communicative': 'pos',\n",
       " 'elegance': 'pos',\n",
       " 'hamper': 'neg',\n",
       " 'luxury': 'pos',\n",
       " 'punish': 'neg',\n",
       " 'effectiveness': 'pos',\n",
       " 'unfair': 'neg',\n",
       " 'propitious': 'pos',\n",
       " 'conducive': 'pos',\n",
       " 'hurtful': 'neg',\n",
       " 'timidity': 'neg',\n",
       " 'object': 'neg',\n",
       " 'vexing': 'neg',\n",
       " 'prohibitive': 'neg',\n",
       " 'simplify': 'pos',\n",
       " 'affirmation': 'pos',\n",
       " 'addict': 'neg',\n",
       " 'plenty': 'pos',\n",
       " 'drought': 'neg',\n",
       " 'panic': 'neg',\n",
       " 'grave': 'neg',\n",
       " 'glow': 'pos',\n",
       " 'gentle': 'pos',\n",
       " 'constancy': 'pos',\n",
       " 'potency': 'pos',\n",
       " 'antitrust': 'neg',\n",
       " 'alarm': 'neg',\n",
       " 'lose': 'neg',\n",
       " 'treaty': 'pos',\n",
       " 'ruthless': 'neg',\n",
       " 'thirsty': 'neg',\n",
       " 'ridiculous': 'neg',\n",
       " 'calmness': 'pos',\n",
       " 'principle': 'pos',\n",
       " 'unfriendly': 'neg',\n",
       " 'oppress': 'neg',\n",
       " 'confederation': 'pos',\n",
       " 'fussy': 'neg',\n",
       " 'discontent': 'neg',\n",
       " 'sanctuary': 'pos',\n",
       " 'bomb': 'neg',\n",
       " 'inspire': 'pos',\n",
       " 'endear': 'pos',\n",
       " 'rapture': 'pos',\n",
       " 'alight': 'pos',\n",
       " 'retire': 'neg',\n",
       " 'sage': 'pos',\n",
       " 'brilliance': 'pos',\n",
       " 'undue': 'neg',\n",
       " 'uneasiness': 'neg',\n",
       " 'liberty': 'pos',\n",
       " 'queer': 'neg',\n",
       " 'subtle': 'pos',\n",
       " 'bail': 'neg',\n",
       " 'availability': 'pos',\n",
       " 'capitulate': 'neg',\n",
       " 'acquit': 'pos',\n",
       " 'divinity': 'pos',\n",
       " 'spite': 'neg',\n",
       " 'undignified': 'neg',\n",
       " 'quaint': 'pos',\n",
       " 'undoubtedly': 'pos',\n",
       " 'wasteful': 'neg',\n",
       " 'cupid': 'pos',\n",
       " 'individuality': 'pos',\n",
       " 'inhibition': 'neg',\n",
       " 'bliss': 'pos',\n",
       " 'disgust': 'neg',\n",
       " 'heartily': 'pos',\n",
       " 'enslave': 'neg',\n",
       " 'adequate': 'pos',\n",
       " 'hoard': 'neg',\n",
       " 'regrettable': 'neg',\n",
       " 'continuity': 'pos',\n",
       " 'anti-social': 'neg',\n",
       " 'altruistic': 'pos',\n",
       " 'hostility': 'neg',\n",
       " 'blur': 'neg',\n",
       " 'denounce': 'neg',\n",
       " 'leisure': 'pos',\n",
       " 'foremost': 'pos',\n",
       " 'baffle': 'neg',\n",
       " 'roundabout': 'neg',\n",
       " 'slanderous': 'neg',\n",
       " 'trust': 'pos',\n",
       " 'nasty': 'neg',\n",
       " 'considerate': 'pos',\n",
       " 'relish': 'pos',\n",
       " 'volatility': 'neg',\n",
       " 'overbearing': 'neg',\n",
       " 'bar': 'neg',\n",
       " 'subservience': 'neg',\n",
       " 'broken-hearted': 'neg',\n",
       " 'collusion': 'neg',\n",
       " 'idiotic': 'neg',\n",
       " 'godliness': 'pos',\n",
       " 'bad': 'neg',\n",
       " 'multitude': 'pos',\n",
       " 'adherence': 'pos',\n",
       " 'enchant': 'pos',\n",
       " 'bother': 'neg',\n",
       " 'ethical': 'pos',\n",
       " 'erroneous': 'neg',\n",
       " 'unworthy': 'neg',\n",
       " 'disaster': 'neg',\n",
       " 'fair': 'pos',\n",
       " 'riches': 'pos',\n",
       " 'sensitivity': 'pos',\n",
       " 'irritable': 'neg',\n",
       " 'blameless': 'pos',\n",
       " 'unexpectedly': 'neg',\n",
       " 'wrongful': 'neg',\n",
       " 'allure': 'pos',\n",
       " 'dispensability': 'neg',\n",
       " 'miserable': 'neg',\n",
       " 'best': 'pos',\n",
       " 'accede': 'pos',\n",
       " 'temptation': 'neg',\n",
       " 'afloat': 'pos',\n",
       " 'compensation': 'pos',\n",
       " 'artificial': 'neg',\n",
       " 'extol': 'pos',\n",
       " 'startle': 'neg',\n",
       " 'irk': 'neg',\n",
       " 'disprove': 'neg',\n",
       " 'scorn': 'neg',\n",
       " 'approach': 'pos',\n",
       " 'adventuresome': 'pos',\n",
       " 'accord': 'pos',\n",
       " 'confusion': 'neg',\n",
       " 'steady': 'pos',\n",
       " 'ignorance': 'neg',\n",
       " 'devout': 'pos',\n",
       " 'censorship': 'neg',\n",
       " 'contamination': 'neg',\n",
       " 'dedication': 'pos',\n",
       " 'intelligent': 'pos',\n",
       " 'drowsy': 'neg',\n",
       " 'absorbent': 'pos',\n",
       " 'tyranny': 'neg',\n",
       " 'protect': 'pos',\n",
       " 'accident': 'neg',\n",
       " 'irregular': 'neg',\n",
       " 'disdain': 'neg',\n",
       " 'fault': 'neg',\n",
       " 'ill': 'neg',\n",
       " 'against': 'neg',\n",
       " 'torrent': 'neg',\n",
       " 'selective': 'pos',\n",
       " 'brag': 'neg',\n",
       " 'misunderstand': 'neg',\n",
       " 'logic': 'pos',\n",
       " 'distinction': 'pos',\n",
       " 'contribution': 'pos',\n",
       " 'expense': 'neg',\n",
       " 'eradicate': 'neg',\n",
       " 'shady': 'neg',\n",
       " 'self-respect': 'pos',\n",
       " 'spear': 'neg',\n",
       " 'confide': 'pos',\n",
       " 'irresponsible': 'neg',\n",
       " 'relaxation': 'pos',\n",
       " 'epidemic': 'neg',\n",
       " 'condescending': 'neg',\n",
       " 'inquisitive': 'pos',\n",
       " 'hygiene': 'pos',\n",
       " 'comprehension': 'pos',\n",
       " 'lowly': 'neg',\n",
       " 'majestic': 'pos',\n",
       " 'speedily': 'pos',\n",
       " 'comical': 'pos',\n",
       " 'gratitude': 'pos',\n",
       " 'petty': 'neg',\n",
       " 'jobless': 'neg',\n",
       " 'backwardness': 'neg',\n",
       " 'futility': 'neg',\n",
       " 'subside': 'neg',\n",
       " 'beneficiary': 'pos',\n",
       " 'confident': 'pos',\n",
       " 'charisma': 'pos',\n",
       " 'accentuate': 'pos',\n",
       " 'communion': 'pos',\n",
       " 'interest': 'pos',\n",
       " 'basic': 'pos',\n",
       " 'flexible': 'pos',\n",
       " 'lovely': 'pos',\n",
       " 'adroitly': 'pos',\n",
       " 'incompetent': 'neg',\n",
       " 'idol': 'pos',\n",
       " 'fleeting': 'neg',\n",
       " 'easy': 'pos',\n",
       " 'efficacy': 'pos',\n",
       " 'beastly': 'neg',\n",
       " 'suppress': 'neg',\n",
       " 'stifle': 'neg',\n",
       " 'dismiss': 'neg',\n",
       " 'excite': 'pos',\n",
       " 'bereavement': 'neg',\n",
       " 'uncommon': 'pos',\n",
       " 'relevance': 'pos',\n",
       " 'coherent': 'pos',\n",
       " 'confinement': 'neg',\n",
       " 'slap': 'neg',\n",
       " 'dote': 'pos',\n",
       " 'catch': 'neg',\n",
       " 'sad': 'neg',\n",
       " 'gracious': 'pos',\n",
       " 'unpopular': 'neg',\n",
       " 'exception': 'neg',\n",
       " 'righteous': 'pos',\n",
       " 'sly': 'neg',\n",
       " 'affirm': 'pos',\n",
       " 'apprehension': 'neg',\n",
       " 'tolerable': 'neg',\n",
       " 'ail': 'neg',\n",
       " 'slam': 'neg',\n",
       " 'abrupt': 'neg',\n",
       " 'thrash': 'neg',\n",
       " 'aid': 'pos',\n",
       " 'mangle': 'neg',\n",
       " 'moan': 'neg',\n",
       " 'mistake': 'neg',\n",
       " 'pessimistic': 'neg',\n",
       " 'stink': 'neg',\n",
       " 'ridicule': 'neg',\n",
       " 'congratulation': 'pos',\n",
       " 'preeminent': 'pos',\n",
       " 'usable': 'pos',\n",
       " 'sting': 'neg',\n",
       " 'shame': 'neg',\n",
       " 'dizzy': 'neg',\n",
       " 'jest': 'pos',\n",
       " 'exile': 'neg',\n",
       " 'amour': 'pos',\n",
       " 'uplift': 'pos',\n",
       " 'sever': 'neg',\n",
       " 'growl': 'neg',\n",
       " 'severity': 'neg',\n",
       " 'make': 'pos',\n",
       " 'wound': 'neg',\n",
       " 'harass': 'neg',\n",
       " 'verify': 'pos',\n",
       " 'rebellion': 'neg',\n",
       " 'utilitarian': 'pos',\n",
       " 'grapple': 'neg',\n",
       " 'complex': 'neg',\n",
       " 'harmony': 'pos',\n",
       " 'contaminate': 'neg',\n",
       " 'silly': 'neg',\n",
       " 'indictment': 'neg',\n",
       " 'exertion': 'pos',\n",
       " 'independent': 'pos',\n",
       " 'commonsense': 'pos',\n",
       " 'fuss': 'neg',\n",
       " 'screw': 'neg',\n",
       " 'pick': 'neg',\n",
       " 'hang': 'neg',\n",
       " 'evil': 'neg',\n",
       " 'displace': 'neg',\n",
       " 'delight': 'pos',\n",
       " 'corruption': 'neg',\n",
       " 'nix': 'neg',\n",
       " 'descry': 'pos',\n",
       " 'opportunity': 'pos',\n",
       " 'haggard': 'neg',\n",
       " 'kid': 'pos',\n",
       " 'rebut': 'neg',\n",
       " 'intrusion': 'neg',\n",
       " 'humble': 'pos',\n",
       " 'redeem': 'pos',\n",
       " 'inherit': 'pos',\n",
       " 'bonny': 'pos',\n",
       " 'savings': 'pos',\n",
       " 'contact': 'pos',\n",
       " 'impediment': 'neg',\n",
       " 'incapable': 'neg',\n",
       " 'abound': 'pos',\n",
       " 'etiquette': 'pos',\n",
       " 'stringent': 'neg',\n",
       " 'appease': 'pos',\n",
       " 'just': 'pos',\n",
       " 'sentence': 'neg',\n",
       " 'athletic': 'pos',\n",
       " 'boastful': 'neg',\n",
       " 'dignify': 'pos',\n",
       " 'bruise': 'neg',\n",
       " 'fantastic': 'pos',\n",
       " 'repose': 'pos',\n",
       " 'beset': 'neg',\n",
       " 'disguise': 'neg',\n",
       " 'fullness': 'pos',\n",
       " 'plight': 'neg',\n",
       " 'brandish': 'neg',\n",
       " 'enlighten': 'pos',\n",
       " 'visualization': 'pos',\n",
       " 'agile': 'pos',\n",
       " 'ease': 'pos',\n",
       " 'vie': 'neg',\n",
       " 'advancement': 'pos',\n",
       " 'hag': 'neg',\n",
       " 'exalt': 'pos',\n",
       " 'snarl': 'neg',\n",
       " 'affinity': 'pos',\n",
       " 'board': 'neg',\n",
       " 'beloved': 'pos',\n",
       " 'prison': 'neg',\n",
       " 'falter': 'neg',\n",
       " 'pitiful': 'neg',\n",
       " 'moody': 'neg',\n",
       " 'humanity': 'pos',\n",
       " 'coarseness': 'neg',\n",
       " 'submissive': 'neg',\n",
       " 'wreck': 'neg',\n",
       " 'skeptical': 'neg',\n",
       " 'involuntary': 'neg',\n",
       " 'survival': 'pos',\n",
       " 'disagreement': 'neg',\n",
       " 'obedient': 'pos',\n",
       " 'auspicious': 'pos',\n",
       " 'discreet': 'pos',\n",
       " 'indicative': 'pos',\n",
       " 'roughness': 'neg',\n",
       " 'affability': 'pos',\n",
       " 'sanitary': 'pos',\n",
       " 'shadow': 'neg',\n",
       " 'unique': 'pos',\n",
       " 'befit': 'pos',\n",
       " 'retreat': 'neg',\n",
       " 'disadvantage': 'neg',\n",
       " 'desire': 'neg',\n",
       " 'dignity': 'pos',\n",
       " 'triumphal': 'pos',\n",
       " 'brutality': 'neg',\n",
       " 'gift': 'pos',\n",
       " 'uncivil': 'neg',\n",
       " 'contradict': 'neg',\n",
       " 'grizzly': 'neg',\n",
       " 'gifted': 'pos',\n",
       " 'dishonest': 'neg',\n",
       " 'unnecessary': 'neg',\n",
       " 'splendor': 'pos',\n",
       " 'arbitrary': 'neg',\n",
       " 'hung': 'neg',\n",
       " 'invaluable': 'pos',\n",
       " 'security': 'pos',\n",
       " 'starvation': 'neg',\n",
       " 'battlefield': 'neg',\n",
       " 'beneficial': 'pos',\n",
       " 'hunt': 'neg',\n",
       " 'envision': 'pos',\n",
       " 'deal': 'neg',\n",
       " 'repudiate': 'neg',\n",
       " 'excitedness': 'pos',\n",
       " 'refinement': 'pos',\n",
       " 'deaf': 'neg',\n",
       " 'dead': 'neg',\n",
       " 'accost': 'neg',\n",
       " 'hassle': 'neg',\n",
       " 'displeasure': 'neg',\n",
       " 'dear': 'pos',\n",
       " 'pain': 'neg',\n",
       " 'bore': 'neg',\n",
       " 'intellect': 'pos',\n",
       " 'disavowal': 'neg',\n",
       " 'nobleman': 'pos',\n",
       " 'congratulate': 'pos',\n",
       " 'humor': 'pos',\n",
       " 'combat': 'neg',\n",
       " 'establish': 'pos',\n",
       " 'unavoidable': 'neg',\n",
       " 'creative': 'pos',\n",
       " 'witty': 'pos',\n",
       " 'flounder': 'neg',\n",
       " 'convict': 'neg',\n",
       " 'readily': 'pos',\n",
       " 'adorable': 'pos',\n",
       " 'palatable': 'pos',\n",
       " 'plot': 'neg',\n",
       " 'brawl': 'neg',\n",
       " 'burn': 'neg',\n",
       " 'blackmail': 'neg',\n",
       " 'constructive': 'pos',\n",
       " 'confrontation': 'neg',\n",
       " 'defensive': 'neg',\n",
       " 'notorious': 'neg',\n",
       " 'memorable': 'pos',\n",
       " 'bury': 'neg',\n",
       " 'chafe': 'neg',\n",
       " 'empowerment': 'pos',\n",
       " 'unsteadiness': 'neg',\n",
       " 'restlessness': 'neg',\n",
       " 'conceal': 'neg',\n",
       " 'anomalous': 'neg',\n",
       " 'donation': 'pos',\n",
       " 'trustworthy': 'pos',\n",
       " 'blithe': 'pos',\n",
       " 'despair': 'neg',\n",
       " 'ensure': 'pos',\n",
       " 'transgress': 'neg',\n",
       " 'cherish': 'pos',\n",
       " 'commit': 'neg',\n",
       " 'twitch': 'neg',\n",
       " 'meddle': 'neg',\n",
       " 'croak': 'neg',\n",
       " 'impartiality': 'pos',\n",
       " 'dilemma': 'neg',\n",
       " 'anxiousness': 'neg',\n",
       " 'superlative': 'pos',\n",
       " 'civil': 'pos',\n",
       " 'infraction': 'neg',\n",
       " 'honeymoon': 'pos',\n",
       " 'bound': 'neg',\n",
       " 'intellectual': 'pos',\n",
       " 'accommodate': 'pos',\n",
       " 'respectable': 'pos',\n",
       " 'right': 'pos',\n",
       " 'formidable': 'neg',\n",
       " 'squander': 'neg',\n",
       " 'annoyance': 'neg',\n",
       " 'familiarize': 'pos',\n",
       " 'deception': 'neg',\n",
       " 'implore': 'neg',\n",
       " 'disinterest': 'neg',\n",
       " 'indispensable': 'pos',\n",
       " 'suffice': 'pos',\n",
       " 'illustrious': 'pos',\n",
       " 'fervent': 'pos',\n",
       " 'splendid': 'pos',\n",
       " 'derision': 'neg',\n",
       " 'fought': 'neg',\n",
       " 'satisfactorily': 'pos',\n",
       " 'flatter': 'pos',\n",
       " 'venomous': 'neg',\n",
       " 'calm': 'pos',\n",
       " 'questionable': 'neg',\n",
       " 'starve': 'neg',\n",
       " 'overjoyed': 'pos',\n",
       " 'immorality': 'neg',\n",
       " 'fascination': 'pos',\n",
       " 'heal': 'pos',\n",
       " 'discourage': 'neg',\n",
       " 'vitality': 'pos',\n",
       " 'heinous': 'neg',\n",
       " 'failure': 'neg',\n",
       " 'understandable': 'pos',\n",
       " 'prettily': 'pos',\n",
       " 'blindness': 'neg',\n",
       " 'safeguard': 'pos',\n",
       " 'true': 'pos',\n",
       " 'dump': 'neg',\n",
       " 'humiliate': 'neg',\n",
       " 'absent': 'neg',\n",
       " 'counsel': 'pos',\n",
       " 'injury': 'neg',\n",
       " 'captive': 'neg',\n",
       " 'invincible': 'pos',\n",
       " 'bargain': 'pos',\n",
       " 'generosity': 'pos',\n",
       " 'adore': 'pos',\n",
       " 'decorate': 'pos',\n",
       " 'propaganda': 'neg',\n",
       " 'adorn': 'pos',\n",
       " 'disgrace': 'neg',\n",
       " 'prosecute': 'pos',\n",
       " 'classic': 'pos',\n",
       " 'fury': 'neg',\n",
       " 'covert': 'neg',\n",
       " 'unnerve': 'neg',\n",
       " 'crumble': 'neg',\n",
       " 'soothe': 'pos',\n",
       " 'subsist': 'pos',\n",
       " 'revitalize': 'pos',\n",
       " 'fidget': 'neg',\n",
       " 'mediocre': 'neg',\n",
       " 'dent': 'neg',\n",
       " 'harassment': 'neg',\n",
       " 'liberalism': 'pos',\n",
       " 'rough': 'neg',\n",
       " 'discriminate': 'neg',\n",
       " 'disputable': 'neg',\n",
       " 'dying': 'neg',\n",
       " 'floor': 'neg',\n",
       " 'authoritative': 'pos',\n",
       " 'excel': 'pos',\n",
       " 'willful': 'pos',\n",
       " 'interested': 'pos',\n",
       " 'stagnant': 'neg',\n",
       " 'unwilling': 'neg',\n",
       " 'frolic': 'pos',\n",
       " 'erosion': 'neg',\n",
       " 'naive': 'neg',\n",
       " 'subsidize': 'pos',\n",
       " 'fortitude': 'pos',\n",
       " 'handicap': 'neg',\n",
       " 'liquidate': 'neg',\n",
       " 'welcome': 'pos',\n",
       " 'polite': 'pos',\n",
       " 'comely': 'pos',\n",
       " 'warp': 'neg',\n",
       " 'persecution': 'neg',\n",
       " 'discharge': 'neg',\n",
       " 'entrust': 'pos',\n",
       " 'hurt': 'neg',\n",
       " 'congested': 'neg',\n",
       " 'vastness': 'pos',\n",
       " 'triumphant': 'pos',\n",
       " 'bullet': 'neg',\n",
       " 'quandary': 'neg',\n",
       " 'withhold': 'neg',\n",
       " 'cohesion': 'pos',\n",
       " 'accolade': 'pos',\n",
       " 'cheater': 'neg',\n",
       " 'push': 'neg',\n",
       " 'serious': 'pos',\n",
       " 'intimacy': 'pos',\n",
       " 'backward': 'neg',\n",
       " 'precedent': 'pos',\n",
       " 'subvert': 'neg',\n",
       " 'fearsome': 'neg',\n",
       " 'befriend': 'pos',\n",
       " 'revoke': 'neg',\n",
       " 'remarkable': 'pos',\n",
       " 'dance': 'pos',\n",
       " 'particular': 'neg',\n",
       " 'mild': 'pos',\n",
       " 'grateful': 'pos',\n",
       " 'battle': 'neg',\n",
       " 'remarkably': 'pos',\n",
       " 'abundant': 'pos',\n",
       " 'rot': 'neg',\n",
       " 'indefinite': 'neg',\n",
       " 'discern': 'pos',\n",
       " 'idealism': 'pos',\n",
       " 'uneven': 'neg',\n",
       " 'deceitful': 'neg',\n",
       " 'foe': 'neg',\n",
       " 'involve': 'neg',\n",
       " 'sufferer': 'neg',\n",
       " 'worth': 'pos',\n",
       " 'vex': 'neg',\n",
       " 'aristocratic': 'pos',\n",
       " 'compensate': 'pos',\n",
       " 'dissatisfied': 'neg',\n",
       " 'terror': 'neg',\n",
       " 'oversight': 'neg',\n",
       " 'ride': 'neg',\n",
       " 'eliminate': 'neg',\n",
       " 'persevere': 'pos',\n",
       " 'division': 'neg',\n",
       " 'protective': 'pos',\n",
       " 'advantage': 'pos',\n",
       " 'navigable': 'pos',\n",
       " 'unfamiliar': 'neg',\n",
       " 'sloppy': 'neg',\n",
       " 'liability': 'neg',\n",
       " 'turbulent': 'neg',\n",
       " 'gloomy': 'neg',\n",
       " 'mourn': 'neg',\n",
       " 'trouble': 'neg',\n",
       " 'blast': 'neg',\n",
       " 'exact': 'pos',\n",
       " 'feeble': 'neg',\n",
       " 'cool': 'neg',\n",
       " 'dim': 'neg',\n",
       " 'din': 'neg',\n",
       " 'impressive': 'pos',\n",
       " 'strain': 'neg',\n",
       " 'tear': 'neg',\n",
       " 'economize': 'pos',\n",
       " 'dig': 'pos',\n",
       " 'gun': 'neg',\n",
       " 'noiseless': 'pos',\n",
       " 'settle': 'pos',\n",
       " 'excellence': 'pos',\n",
       " 'encroach': 'neg',\n",
       " 'round': 'pos',\n",
       " 'wanton': 'neg',\n",
       " 'brave': 'pos',\n",
       " 'regret': 'neg',\n",
       " 'insignificant': 'neg',\n",
       " 'somber': 'neg',\n",
       " ...}"
      ]
     },
     "execution_count": 493,
     "metadata": {},
     "output_type": "execute_result"
    }
   ],
   "source": [
    "chatbot.sentiment"
   ]
  },
  {
   "cell_type": "code",
   "execution_count": 629,
   "id": "49188a18",
   "metadata": {},
   "outputs": [
    {
     "name": "stdout",
     "output_type": "stream",
     "text": [
      "1\n"
     ]
    }
   ],
   "source": [
    "sentiment = chatbot.predict_sentiment_rule_based('i like it')\n",
    "print(sentiment)"
   ]
  },
  {
   "cell_type": "code",
   "execution_count": 495,
   "id": "47036316",
   "metadata": {},
   "outputs": [
    {
     "data": {
      "text/plain": [
       "numpy.ndarray"
      ]
     },
     "execution_count": 495,
     "metadata": {},
     "output_type": "execute_result"
    }
   ],
   "source": [
    "texts, y = util.load_rotten_tomatoes_dataset()\n",
    "\n",
    "asdf = np.array([\"a\", \"a\", \"b\"])\n",
    "               \n",
    "asdf[asdf == \"a\"] = 1\n",
    "type(asdf)"
   ]
  },
  {
   "cell_type": "code",
   "execution_count": 630,
   "id": "f917fff1",
   "metadata": {},
   "outputs": [
    {
     "name": "stdout",
     "output_type": "stream",
     "text": [
      "-1\n"
     ]
    }
   ],
   "source": [
    "chatbot.count_vectorizer.get_feature_names_out()\n",
    "\n",
    "sentiment = chatbot.predict_sentiment_statistical('i like it')\n",
    "print(sentiment)"
   ]
  },
  {
   "cell_type": "code",
   "execution_count": 621,
   "id": "3b8d431b",
   "metadata": {},
   "outputs": [
    {
     "name": "stdout",
     "output_type": "stream",
     "text": [
      "['Trick or Treat (1986)', 'Dunston Checks In (1996)', 'Problem Child (1990)']\n"
     ]
    }
   ],
   "source": [
    "bot_recommends = chatbot.recommend_movies({100: 1, 202: -1, 303: 1, 404:1, 505: 1})\n",
    "print(bot_recommends) # prints ['Trick or Treat (1986)', 'Dunston Checks In (1996)', 'Problem Child (1990)']"
   ]
  },
  {
   "cell_type": "code",
   "execution_count": 614,
   "id": "b83a758a",
   "metadata": {},
   "outputs": [
    {
     "data": {
      "text/plain": [
       "['Spider', 'Spider-Man', 'Man, The']"
      ]
     },
     "execution_count": 614,
     "metadata": {},
     "output_type": "execute_result"
    }
   ],
   "source": [
    "chatbot.extract_titles_no_quote_wrong_cap(\"spider man\")"
   ]
  },
  {
   "cell_type": "code",
   "execution_count": 500,
   "id": "6e965504",
   "metadata": {},
   "outputs": [
    {
     "data": {
      "text/plain": [
       "'10 Things I Hate About You'"
      ]
     },
     "execution_count": 500,
     "metadata": {},
     "output_type": "execute_result"
    }
   ],
   "source": [
    "chatbot.titles[2063][0][:-7]"
   ]
  },
  {
   "cell_type": "code",
   "execution_count": 606,
   "id": "7f8364d8",
   "metadata": {},
   "outputs": [
    {
     "data": {
      "text/plain": [
       "[7951, 8454, 8720, 8914]"
      ]
     },
     "execution_count": 606,
     "metadata": {},
     "output_type": "execute_result"
    }
   ],
   "source": [
    "chatbot.find_movies_idx_by_title('hunger games')"
   ]
  },
  {
   "cell_type": "code",
   "execution_count": 503,
   "id": "bd251778",
   "metadata": {},
   "outputs": [
    {
     "data": {
      "text/plain": [
       "['Notebook, The (2004)', 'Drama|Romance']"
      ]
     },
     "execution_count": 503,
     "metadata": {},
     "output_type": "execute_result"
    }
   ],
   "source": [
    "chatbot.titles[5448]"
   ]
  },
  {
   "cell_type": "code",
   "execution_count": 613,
   "id": "16d1c77e",
   "metadata": {},
   "outputs": [
    {
     "data": {
      "text/plain": [
       "['Notebook, The']"
      ]
     },
     "execution_count": 613,
     "metadata": {},
     "output_type": "execute_result"
    }
   ],
   "source": [
    "chatbot.extract_titles_no_quote_wrong_cap('I liked \\\"The Notebook\\\" a lot.')"
   ]
  },
  {
   "cell_type": "code",
   "execution_count": 522,
   "id": "97470de5",
   "metadata": {},
   "outputs": [
    {
     "data": {
      "text/plain": [
       "[]"
      ]
     },
     "execution_count": 522,
     "metadata": {},
     "output_type": "execute_result"
    }
   ],
   "source": [
    "chatbot.extract_titles_no_quote_wrong_cap(\"qwertyuiop\")"
   ]
  },
  {
   "cell_type": "code",
   "execution_count": 612,
   "id": "9ce4ca9e",
   "metadata": {},
   "outputs": [
    {
     "data": {
      "text/plain": [
       "['Notebook, The (2004)']"
      ]
     },
     "execution_count": 612,
     "metadata": {},
     "output_type": "execute_result"
    }
   ],
   "source": [
    "chatbot.handle_movie_titles_with_articles('\"The Notebook\"')"
   ]
  },
  {
   "cell_type": "code",
   "execution_count": 611,
   "id": "ce029ef5",
   "metadata": {},
   "outputs": [
    {
     "data": {
      "text/plain": [
       "['American in Paris, An (1951)', 'American Werewolf in Paris, An (1997)']"
      ]
     },
     "execution_count": 611,
     "metadata": {},
     "output_type": "execute_result"
    }
   ],
   "source": [
    "chatbot.handle_movie_titles_with_articles('I liked \"An American in Paris\"')"
   ]
  },
  {
   "cell_type": "code",
   "execution_count": 605,
   "id": "f1e9158e",
   "metadata": {},
   "outputs": [
    {
     "data": {
      "text/plain": [
       "[721, 2237]"
      ]
     },
     "execution_count": 605,
     "metadata": {},
     "output_type": "execute_result"
    }
   ],
   "source": [
    "chatbot.find_movies_idx_by_title(\"An american in paris\")"
   ]
  },
  {
   "cell_type": "code",
   "execution_count": 538,
   "id": "ebf5939f",
   "metadata": {},
   "outputs": [
    {
     "data": {
      "text/plain": [
       "[2237]"
      ]
     },
     "execution_count": 538,
     "metadata": {},
     "output_type": "execute_result"
    }
   ],
   "source": [
    "chatbot.disambiguate_candidates(\"werewolf\", [721, 2237])"
   ]
  },
  {
   "cell_type": "code",
   "execution_count": 610,
   "id": "e1348686",
   "metadata": {},
   "outputs": [
    {
     "data": {
      "text/plain": [
       "['American in Paris, An (1951)', 'American Werewolf in Paris, An (1997)']"
      ]
     },
     "execution_count": 610,
     "metadata": {},
     "output_type": "execute_result"
    }
   ],
   "source": [
    "chatbot.handle_movie_titles_with_articles(\"I liked \\\"American in Paris, An\\\"\")"
   ]
  },
  {
   "cell_type": "code",
   "execution_count": 551,
   "id": "f7593d9d",
   "metadata": {},
   "outputs": [
    {
     "data": {
      "text/plain": [
       "['The Hunger Games (2012)', 'Action|Adventure|Drama|Sci-Fi|Thriller']"
      ]
     },
     "execution_count": 551,
     "metadata": {},
     "output_type": "execute_result"
    }
   ],
   "source": [
    "chatbot.titles[7951]"
   ]
  },
  {
   "cell_type": "code",
   "execution_count": 579,
   "id": "0c193f78",
   "metadata": {},
   "outputs": [
    {
     "data": {
      "text/plain": [
       "['hunger games', 'harry potter']"
      ]
     },
     "execution_count": 579,
     "metadata": {},
     "output_type": "execute_result"
    }
   ],
   "source": [
    "chatbot.extract_titles(\"\\\"hunger games\\\" and \\\"harry potter\\\"\")"
   ]
  },
  {
   "cell_type": "code",
   "execution_count": 582,
   "id": "9b213aed",
   "metadata": {},
   "outputs": [
    {
     "data": {
      "text/plain": [
       "1"
      ]
     },
     "execution_count": 582,
     "metadata": {},
     "output_type": "execute_result"
    }
   ],
   "source": [
    "chatbot.predict_sentiment_statistical(\"I love hunger games\")"
   ]
  },
  {
   "cell_type": "code",
   "execution_count": 591,
   "id": "34f357bb",
   "metadata": {},
   "outputs": [
    {
     "name": "stdout",
     "output_type": "stream",
     "text": [
      "<re.Match object; span=(0, 1), match='i'>\n",
      "<re.Match object; span=(0, 2), match='am'>\n",
      "<re.Match object; span=(0, 5), match='happy'>\n"
     ]
    }
   ],
   "source": [
    "chatbot.handle_emotions(\"i am happy\")"
   ]
  },
  {
   "cell_type": "code",
   "execution_count": 604,
   "id": "f8b8e4b0",
   "metadata": {},
   "outputs": [
    {
     "data": {
      "text/plain": [
       "[6384]"
      ]
     },
     "execution_count": 604,
     "metadata": {},
     "output_type": "execute_result"
    }
   ],
   "source": [
    "chatbot.find_movies_idx_by_title(\"She's The Man\")"
   ]
  },
  {
   "cell_type": "code",
   "execution_count": 597,
   "id": "e47a8b40",
   "metadata": {},
   "outputs": [
    {
     "data": {
      "text/plain": [
       "<re.Match object; span=(0, 3), match='she'>"
      ]
     },
     "execution_count": 597,
     "metadata": {},
     "output_type": "execute_result"
    }
   ],
   "source": [
    "re.search(r'\\b{}\\b'.format(\"She\".lower()), \"She's The Man\".lower())"
   ]
  },
  {
   "cell_type": "code",
   "execution_count": 602,
   "id": "9fd38302",
   "metadata": {},
   "outputs": [
    {
     "data": {
      "text/plain": [
       "False"
      ]
     },
     "execution_count": 602,
     "metadata": {},
     "output_type": "execute_result"
    }
   ],
   "source": [
    "\"yeah!\" in [\"yes\", \"yea\", \"yeah\", \"y\"]"
   ]
  },
  {
   "cell_type": "code",
   "execution_count": 603,
   "id": "49774140",
   "metadata": {},
   "outputs": [
    {
     "name": "stderr",
     "output_type": "stream",
     "text": [
      "/Users/alansun/miniconda3/envs/cs375/lib/python3.8/site-packages/sklearn/linear_model/_logistic.py:458: ConvergenceWarning: lbfgs failed to converge (status=1):\n",
      "STOP: TOTAL NO. of ITERATIONS REACHED LIMIT.\n",
      "\n",
      "Increase the number of iterations (max_iter) or scale the data as shown in:\n",
      "    https://scikit-learn.org/stable/modules/preprocessing.html\n",
      "Please also refer to the documentation for alternative solver options:\n",
      "    https://scikit-learn.org/stable/modules/linear_model.html#logistic-regression\n",
      "  n_iter_i = _check_optimize_result(\n"
     ]
    },
    {
     "data": {
      "text/plain": [
       "0.7728"
      ]
     },
     "execution_count": 603,
     "metadata": {},
     "output_type": "execute_result"
    }
   ],
   "source": [
    "texts, y = util.load_rotten_tomatoes_dataset()\n",
    "texts = [text.lower() for text in texts]\n",
    "y[y == \"Rotten\"], y[y == \"Fresh\"] = -1, 1\n",
    "y = y.astype('int')\n",
    "\n",
    "count_vectorizer = CountVectorizer(min_df=20, stop_words='english', max_features=1000) \n",
    "texts_array = count_vectorizer.fit_transform(texts).toarray()\n",
    "\n",
    "model = sklearn.linear_model.LogisticRegression(penalty=None)\n",
    "fitted = model.fit(texts_array, y)\n",
    "float(fitted.score(texts_array, y))"
   ]
  },
  {
   "cell_type": "code",
   "execution_count": null,
   "id": "576fbff2",
   "metadata": {},
   "outputs": [],
   "source": []
  }
 ],
 "metadata": {
  "kernelspec": {
   "display_name": "Python 3 (ipykernel)",
   "language": "python",
   "name": "python3"
  },
  "language_info": {
   "codemirror_mode": {
    "name": "ipython",
    "version": 3
   },
   "file_extension": ".py",
   "mimetype": "text/x-python",
   "name": "python",
   "nbconvert_exporter": "python",
   "pygments_lexer": "ipython3",
   "version": "3.8.16"
  }
 },
 "nbformat": 4,
 "nbformat_minor": 5
}
