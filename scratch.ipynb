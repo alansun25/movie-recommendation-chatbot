{
 "cells": [
  {
   "cell_type": "markdown",
   "id": "9155a9ad",
   "metadata": {},
   "source": [
    "# Scratch\n",
    "\n",
    "Try using a Jupyter Notebook like we've provided here as a \"scratch pad\" for developing code. \n",
    "\n",
    "You can quickly test functions as modular pieces of your larger code. "
   ]
  },
  {
   "cell_type": "code",
   "execution_count": 2,
   "id": "e61bfb99",
   "metadata": {},
   "outputs": [],
   "source": [
    "import numpy as np # add more packages if you need them \n",
    "import re"
   ]
  },
  {
   "cell_type": "code",
   "execution_count": 3,
   "id": "7f75905a",
   "metadata": {},
   "outputs": [],
   "source": [
    "from chatbot import * #imports all functions from chatbot.py\n",
    "\n",
    "# The lines below auto-reload the code you write in chatbot.py \n",
    "%load_ext autoreload\n",
    "%autoreload 2"
   ]
  },
  {
   "cell_type": "code",
   "execution_count": 4,
   "id": "be860aa2",
   "metadata": {},
   "outputs": [],
   "source": [
    "chatbot = Chatbot()"
   ]
  },
  {
   "cell_type": "code",
   "execution_count": 5,
   "id": "2144c237",
   "metadata": {},
   "outputs": [
    {
     "data": {
      "text/plain": [
       "\"hello! my name is cupid <3. i'll help you find a new movie to watch and love. tell me about a movie you've seen recently!\""
      ]
     },
     "execution_count": 5,
     "metadata": {},
     "output_type": "execute_result"
    }
   ],
   "source": [
    "chatbot.greeting()"
   ]
  },
  {
   "cell_type": "code",
   "execution_count": 6,
   "id": "2539a199",
   "metadata": {},
   "outputs": [
    {
     "data": {
      "text/plain": [
       "['\"The Notebook\"']"
      ]
     },
     "execution_count": 6,
     "metadata": {},
     "output_type": "execute_result"
    }
   ],
   "source": [
    "preprocessed_input = 'I liked \"The Notebook\" a lot.'\n",
    "chatbot.extract_titles(preprocessed_input)"
   ]
  },
  {
   "cell_type": "code",
   "execution_count": null,
   "id": "9b8b7363",
   "metadata": {},
   "outputs": [],
   "source": [
    "# TODO: add more cells to create more test examples and \n",
    "# test more methods in your chatbot "
   ]
  },
  {
   "cell_type": "code",
   "execution_count": 7,
   "id": "c7e94326",
   "metadata": {},
   "outputs": [
    {
     "data": {
      "text/plain": [
       "['\"Hunger Games\"']"
      ]
     },
     "execution_count": 7,
     "metadata": {},
     "output_type": "execute_result"
    }
   ],
   "source": []
  },
  {
   "cell_type": "code",
   "execution_count": null,
   "id": "771bf356",
   "metadata": {},
   "outputs": [],
   "source": []
  }
 ],
 "metadata": {
  "kernelspec": {
   "display_name": "cs375",
   "language": "python",
   "name": "python3"
  },
  "language_info": {
   "codemirror_mode": {
    "name": "ipython",
    "version": 3
   },
   "file_extension": ".py",
   "mimetype": "text/x-python",
   "name": "python",
   "nbconvert_exporter": "python",
   "pygments_lexer": "ipython3",
   "version": "3.8.16"
  }
 },
 "nbformat": 4,
 "nbformat_minor": 5
}
